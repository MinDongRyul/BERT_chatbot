{
 "cells": [
  {
   "cell_type": "code",
   "execution_count": 4,
   "id": "dce9164a",
   "metadata": {},
   "outputs": [],
   "source": [
    "# !pip install transformers\n",
    "# !pip install torch"
   ]
  },
  {
   "cell_type": "markdown",
   "id": "e6196ac1",
   "metadata": {},
   "source": [
    "### 사전 준비물\n",
    "\n",
    "1. Pretrain된 BERT모델\n",
    "2. 질의응답 Dataset\n",
    "\n",
    "\n",
    "### 진행과정\n",
    "\n",
    "1. 사용자의 질문(query)을 입력받는다.\n",
    "2. query를 pretrained BERT의 입력으로 넣어, query 문장에 해당하는 [CLS] token hidden을 얻는다.\n",
    "3. 사전에 준비된 질의응답 DataSet에 존재하는 모든 질문들을 pretrained BERT의 입력으로 넣어, 질문들에 해당하는 [CLS] token hidden을 얻는다.\n",
    "4. query의 [CLS] token hidden과 질문들의 [CLS] token hidden간의 코사인 유사도를 구한다.\n",
    "5. 가장 높은 코사인 유사도를 가진 질문의 답변을 반환시켜준다.\n",
    "6. 위 과정 반복."
   ]
  },
  {
   "cell_type": "code",
   "execution_count": 7,
   "id": "f5472819",
   "metadata": {},
   "outputs": [],
   "source": [
    "import pandas as pd\n",
    "import torch\n",
    "from transformers import AutoModel, AutoTokenizer"
   ]
  },
  {
   "cell_type": "code",
   "execution_count": 8,
   "id": "3e8dbc4a",
   "metadata": {},
   "outputs": [
    {
     "data": {
      "application/vnd.jupyter.widget-view+json": {
       "model_id": "df70485cfe2f44168cbdfef1a7b3e208",
       "version_major": 2,
       "version_minor": 0
      },
      "text/plain": [
       "Downloading (…)okenizer_config.json:   0%|          | 0.00/29.0 [00:00<?, ?B/s]"
      ]
     },
     "metadata": {},
     "output_type": "display_data"
    },
    {
     "name": "stderr",
     "output_type": "stream",
     "text": [
      "C:\\Users\\MDR\\anaconda3\\lib\\site-packages\\huggingface_hub\\file_download.py:133: UserWarning: `huggingface_hub` cache-system uses symlinks by default to efficiently store duplicated files but your machine does not support them in C:\\Users\\MDR\\.cache\\huggingface\\hub. Caching files will still work but in a degraded version that might require more space on your disk. This warning can be disabled by setting the `HF_HUB_DISABLE_SYMLINKS_WARNING` environment variable. For more details, see https://huggingface.co/docs/huggingface_hub/how-to-cache#limitations.\n",
      "To support symlinks on Windows, you either need to activate Developer Mode or to run Python as an administrator. In order to see activate developer mode, see this article: https://docs.microsoft.com/en-us/windows/apps/get-started/enable-your-device-for-development\n",
      "  warnings.warn(message)\n"
     ]
    },
    {
     "data": {
      "application/vnd.jupyter.widget-view+json": {
       "model_id": "29730ab162cb4ffaaf3edfd2ecbcad10",
       "version_major": 2,
       "version_minor": 0
      },
      "text/plain": [
       "Downloading (…)lve/main/config.json:   0%|          | 0.00/625 [00:00<?, ?B/s]"
      ]
     },
     "metadata": {},
     "output_type": "display_data"
    },
    {
     "data": {
      "application/vnd.jupyter.widget-view+json": {
       "model_id": "57846e27db664162816f8f7167740921",
       "version_major": 2,
       "version_minor": 0
      },
      "text/plain": [
       "Downloading (…)solve/main/vocab.txt:   0%|          | 0.00/996k [00:00<?, ?B/s]"
      ]
     },
     "metadata": {},
     "output_type": "display_data"
    },
    {
     "data": {
      "application/vnd.jupyter.widget-view+json": {
       "model_id": "2ca7e30885f34085a3ca9024272d0f5a",
       "version_major": 2,
       "version_minor": 0
      },
      "text/plain": [
       "Downloading (…)/main/tokenizer.json:   0%|          | 0.00/1.96M [00:00<?, ?B/s]"
      ]
     },
     "metadata": {},
     "output_type": "display_data"
    },
    {
     "data": {
      "application/vnd.jupyter.widget-view+json": {
       "model_id": "9d90a7ff013749278a386f0fe3c4ecac",
       "version_major": 2,
       "version_minor": 0
      },
      "text/plain": [
       "Downloading pytorch_model.bin:   0%|          | 0.00/714M [00:00<?, ?B/s]"
      ]
     },
     "metadata": {},
     "output_type": "display_data"
    },
    {
     "name": "stderr",
     "output_type": "stream",
     "text": [
      "Some weights of the model checkpoint at bert-base-multilingual-cased were not used when initializing BertModel: ['cls.predictions.decoder.weight', 'cls.seq_relationship.bias', 'cls.predictions.transform.dense.weight', 'cls.seq_relationship.weight', 'cls.predictions.transform.LayerNorm.bias', 'cls.predictions.transform.LayerNorm.weight', 'cls.predictions.bias', 'cls.predictions.transform.dense.bias']\n",
      "- This IS expected if you are initializing BertModel from the checkpoint of a model trained on another task or with another architecture (e.g. initializing a BertForSequenceClassification model from a BertForPreTraining model).\n",
      "- This IS NOT expected if you are initializing BertModel from the checkpoint of a model that you expect to be exactly identical (initializing a BertForSequenceClassification model from a BertForSequenceClassification model).\n"
     ]
    },
    {
     "ename": "AttributeError",
     "evalue": "'BertModel' object has no attribute 'prarameters'",
     "output_type": "error",
     "traceback": [
      "\u001b[1;31m---------------------------------------------------------------------------\u001b[0m",
      "\u001b[1;31mAttributeError\u001b[0m                            Traceback (most recent call last)",
      "Input \u001b[1;32mIn [8]\u001b[0m, in \u001b[0;36m<cell line: 4>\u001b[1;34m()\u001b[0m\n\u001b[0;32m      2\u001b[0m tokenizer \u001b[38;5;241m=\u001b[39m AutoTokenizer\u001b[38;5;241m.\u001b[39mfrom_pretrained(MODEL_NAME)\n\u001b[0;32m      3\u001b[0m model \u001b[38;5;241m=\u001b[39m AutoModel\u001b[38;5;241m.\u001b[39mfrom_pretrained(MODEL_NAME)\n\u001b[1;32m----> 4\u001b[0m \u001b[43mmodel\u001b[49m\u001b[38;5;241;43m.\u001b[39;49m\u001b[43mprarameters\u001b[49m\n",
      "File \u001b[1;32m~\\anaconda3\\lib\\site-packages\\torch\\nn\\modules\\module.py:1614\u001b[0m, in \u001b[0;36mModule.__getattr__\u001b[1;34m(self, name)\u001b[0m\n\u001b[0;32m   1612\u001b[0m     \u001b[38;5;28;01mif\u001b[39;00m name \u001b[38;5;129;01min\u001b[39;00m modules:\n\u001b[0;32m   1613\u001b[0m         \u001b[38;5;28;01mreturn\u001b[39;00m modules[name]\n\u001b[1;32m-> 1614\u001b[0m \u001b[38;5;28;01mraise\u001b[39;00m \u001b[38;5;167;01mAttributeError\u001b[39;00m(\u001b[38;5;124m\"\u001b[39m\u001b[38;5;124m'\u001b[39m\u001b[38;5;132;01m{}\u001b[39;00m\u001b[38;5;124m'\u001b[39m\u001b[38;5;124m object has no attribute \u001b[39m\u001b[38;5;124m'\u001b[39m\u001b[38;5;132;01m{}\u001b[39;00m\u001b[38;5;124m'\u001b[39m\u001b[38;5;124m\"\u001b[39m\u001b[38;5;241m.\u001b[39mformat(\n\u001b[0;32m   1615\u001b[0m     \u001b[38;5;28mtype\u001b[39m(\u001b[38;5;28mself\u001b[39m)\u001b[38;5;241m.\u001b[39m\u001b[38;5;18m__name__\u001b[39m, name))\n",
      "\u001b[1;31mAttributeError\u001b[0m: 'BertModel' object has no attribute 'prarameters'"
     ]
    }
   ],
   "source": [
    "MODEL_NAME = 'bert-base-multilingual-cased'\n",
    "tokenizer = AutoTokenizer.from_pretrained(MODEL_NAME)\n",
    "model = AutoModel.from_pretrained(MODEL_NAME)"
   ]
  },
  {
   "cell_type": "code",
   "execution_count": 12,
   "id": "137eb1fe",
   "metadata": {
    "scrolled": true
   },
   "outputs": [
    {
     "data": {
      "text/plain": [
       "<bound method Module.parameters of BertModel(\n",
       "  (embeddings): BertEmbeddings(\n",
       "    (word_embeddings): Embedding(119547, 768, padding_idx=0)\n",
       "    (position_embeddings): Embedding(512, 768)\n",
       "    (token_type_embeddings): Embedding(2, 768)\n",
       "    (LayerNorm): LayerNorm((768,), eps=1e-12, elementwise_affine=True)\n",
       "    (dropout): Dropout(p=0.1, inplace=False)\n",
       "  )\n",
       "  (encoder): BertEncoder(\n",
       "    (layer): ModuleList(\n",
       "      (0-11): 12 x BertLayer(\n",
       "        (attention): BertAttention(\n",
       "          (self): BertSelfAttention(\n",
       "            (query): Linear(in_features=768, out_features=768, bias=True)\n",
       "            (key): Linear(in_features=768, out_features=768, bias=True)\n",
       "            (value): Linear(in_features=768, out_features=768, bias=True)\n",
       "            (dropout): Dropout(p=0.1, inplace=False)\n",
       "          )\n",
       "          (output): BertSelfOutput(\n",
       "            (dense): Linear(in_features=768, out_features=768, bias=True)\n",
       "            (LayerNorm): LayerNorm((768,), eps=1e-12, elementwise_affine=True)\n",
       "            (dropout): Dropout(p=0.1, inplace=False)\n",
       "          )\n",
       "        )\n",
       "        (intermediate): BertIntermediate(\n",
       "          (dense): Linear(in_features=768, out_features=3072, bias=True)\n",
       "          (intermediate_act_fn): GELUActivation()\n",
       "        )\n",
       "        (output): BertOutput(\n",
       "          (dense): Linear(in_features=3072, out_features=768, bias=True)\n",
       "          (LayerNorm): LayerNorm((768,), eps=1e-12, elementwise_affine=True)\n",
       "          (dropout): Dropout(p=0.1, inplace=False)\n",
       "        )\n",
       "      )\n",
       "    )\n",
       "  )\n",
       "  (pooler): BertPooler(\n",
       "    (dense): Linear(in_features=768, out_features=768, bias=True)\n",
       "    (activation): Tanh()\n",
       "  )\n",
       ")>"
      ]
     },
     "execution_count": 12,
     "metadata": {},
     "output_type": "execute_result"
    }
   ],
   "source": [
    "model.parameters"
   ]
  },
  {
   "cell_type": "code",
   "execution_count": 15,
   "id": "32adfc9b",
   "metadata": {},
   "outputs": [],
   "source": [
    "# cls token을 얻기 위한 함수\n",
    "def get_cls_token(sent_A): # 문장이 입력\n",
    "    model.eval()\n",
    "    tokenized_sent = tokenizer(\n",
    "        sent_A,\n",
    "        return_tensors=\"pt\",\n",
    "        truncation=True,\n",
    "        add_special_tokens=True,\n",
    "        max_length=128\n",
    "    )\n",
    "    with torch.no_grad(): # 그라디엔트 계산 비활성화\n",
    "        outputs = model( # **tokenized_sent -> 명시적으로 표시하기 위해 아래로 표현\n",
    "            input_ids = tokenized_sent['input_ids'],\n",
    "            attention_mask = tokenized_sent['attention_mask'],\n",
    "            token_type_ids = tokenized_sent['token_type_ids']\n",
    "        )\n",
    "    logits = outputs.last_hidden_state[:, 0, :].detach().cpu().numpy()\n",
    "    return logits"
   ]
  },
  {
   "cell_type": "code",
   "execution_count": 36,
   "id": "908e268e",
   "metadata": {},
   "outputs": [
    {
     "name": "stdout",
     "output_type": "stream",
     "text": [
      "[[-3.86869609e-02 -7.38065392e-02  3.86235923e-01  1.14278890e-01\n",
      "  -2.11086348e-01 -2.94315487e-01 -6.71451688e-02  1.03092641e-02\n",
      "  -7.78711438e-02  2.09223986e-01 -3.94438207e-02 -1.54055029e-01\n",
      "   1.01203151e-01  1.32729888e-01 -6.32130384e-01 -2.68081784e-01\n",
      "  -1.92343533e-01  4.40752566e-01  5.27532250e-02  3.09119642e-01\n",
      "   1.67338848e-02  3.55735272e-02 -2.29636699e-01  1.19728565e-01\n",
      "   1.66454017e-01 -5.89520872e-01 -1.07969530e-01 -8.46345872e-02\n",
      "   2.62847424e-01  2.48759627e-01  6.51723742e-02 -2.83377841e-02\n",
      "  -1.40974820e-01  1.87241971e-01 -1.67921782e-01  6.53701052e-02\n",
      "  -1.96701944e+00 -1.83534995e-01  8.72325525e-03 -2.04787806e-01\n",
      "  -1.28635362e-01  3.11237909e-02 -1.25798076e-01  4.17607948e-02\n",
      "  -1.24375537e-01  1.30921888e+00 -1.52322412e-01 -9.69932228e-02\n",
      "   1.41810143e+00  1.11565560e-01 -5.71179800e-02 -6.77577496e-01\n",
      "   2.09821135e-01 -1.57215750e+00  1.13460943e-01  1.55448437e-01\n",
      "   2.14178205e-01 -5.80352060e-02  9.50742736e-02  1.57561526e-03\n",
      "  -2.04569232e-02  2.70266652e-01  1.54406577e-01 -1.00358658e-01\n",
      "  -1.45396754e-01 -2.13131845e-01  1.47352129e-01  2.11313710e-01\n",
      "  -2.73929648e-02  9.48028490e-02  1.18329391e-01  2.72328824e-01\n",
      "   3.23295057e-01 -8.28787684e-02 -2.50374019e-01 -4.62372154e-02\n",
      "  -1.20573342e-02 -1.43279985e-01 -1.66140482e-01  5.71602583e-02\n",
      "   7.12925643e-02  3.08489054e-01 -2.31289417e-01 -2.76670940e-02\n",
      "  -2.19897792e-01  1.86483577e-01 -3.03060859e-01 -2.26685926e-01\n",
      "  -2.34481111e-01 -8.44490528e-02 -2.57612437e-01 -2.27204233e-01\n",
      "  -4.42050517e-01 -4.88116741e-02 -3.26350987e-01 -7.65537500e-01\n",
      "   3.59115526e-02  1.95489064e-01  1.69303734e-02  1.63612396e-01\n",
      "   8.54023546e-02  1.52973366e+00  1.91096812e-01  1.40215456e-01\n",
      "  -3.01950788e+00 -5.86238056e-02  9.86234173e-02  3.12342085e-02\n",
      "   5.99402785e-01 -2.03029141e-01  1.05814360e-01  2.31888458e-01\n",
      "   3.36273193e-01  5.51812425e-02 -6.82696030e-02  7.13355243e-02\n",
      "  -8.56344551e-02 -3.46824467e-01 -3.37020755e-01 -2.15887606e-01\n",
      "   1.31091699e-02 -7.25780055e-02  7.20717460e-02 -2.83893645e-01\n",
      "  -3.18498388e-02 -6.08548373e-02  5.52950501e-02 -1.19176000e-01\n",
      "   3.32985312e-01  7.23100543e-01 -4.16076183e-02  2.07772398e+00\n",
      "   5.25246784e-02  1.35190547e-01  4.09484267e-01  1.55633593e+00\n",
      "   1.98329464e-01  2.32343525e-02  3.65566999e-01  3.20658326e-01\n",
      "   1.03603154e-01 -1.14062995e-01 -1.57724008e-01 -9.50893015e-03\n",
      "  -2.28421494e-01  1.22099571e-01 -6.31224215e-02 -1.89659774e-01\n",
      "  -2.97652707e-02 -2.50605077e-01 -3.51270102e-02 -5.44382371e-02\n",
      "   1.64033070e-01 -5.52329086e-02 -1.33657292e-01  9.71017405e-02\n",
      "   1.82858258e-02 -4.97673079e-02  2.63803661e-01  1.82186902e-01\n",
      "   1.63372898e+00  2.21589103e-01  2.00330615e-02  5.03526449e-01\n",
      "  -1.77202150e-02 -2.92034075e-03  1.51094832e-02 -7.20356824e-03\n",
      "  -3.33215505e-01 -3.15580577e-01 -3.56187046e-01  2.39514858e-02\n",
      "   1.22174725e-01  5.77444211e-02  9.33264494e-02 -6.84468970e-02\n",
      "  -1.20189004e-02  4.06600013e-02 -1.19662203e-01  1.96024626e-01\n",
      "  -1.46019369e-01  1.18133560e-01 -2.97067404e-01  2.65054405e-03\n",
      "   3.93297113e-02  1.43174991e-01  2.54859179e-01  1.07772231e-01\n",
      "  -1.70932367e-01 -1.97252423e-01  5.76995313e-02  1.77138388e-01\n",
      "  -6.21198639e-02 -1.90779418e-02  1.29346699e-01  1.68807298e-01\n",
      "   8.54475982e-03  3.32947224e-01 -9.32331011e-02  1.99628584e-02\n",
      "   2.01339334e-01  2.89069228e-02  1.15605332e-01 -2.50074416e-01\n",
      "   1.53880358e-01  5.87794900e-01  1.56450644e-02 -1.36388568e-02\n",
      "  -1.54764801e-01  3.26641053e-01 -3.75005960e-01 -1.21343270e-01\n",
      "   9.64594066e-01  2.25886673e-01  2.56977290e-01 -5.01209125e-03\n",
      "  -4.64605168e-02 -3.15497853e-02  2.76427954e-01 -2.01087570e+00\n",
      "  -2.68952370e-01  1.40725270e-01 -3.40030730e-01 -6.52612820e-02\n",
      "  -1.69056803e-01 -2.03660894e-02 -1.43137947e-01  3.74498546e-01\n",
      "   1.64507832e-02 -3.58384222e-01  2.24098280e-01  2.14393064e-01\n",
      "   7.01665431e-02 -1.99192286e+00  2.96120793e-02 -1.45855054e-01\n",
      "   2.16065541e-01 -4.49595630e-01 -1.72196060e-01 -3.45138125e-02\n",
      "   6.39629066e-02  2.03439966e-01  1.30185694e-01 -2.11130083e-01\n",
      "   1.67170629e-01 -1.80824343e-02  1.25024235e+00  1.24575138e-01\n",
      "   2.25340962e-01 -3.38358492e-01 -1.93681374e-01  1.11188874e-01\n",
      "   2.07847208e-01  2.27044955e-01 -2.74855882e-01  4.47521955e-02\n",
      "  -6.38270658e-03 -2.78974593e-01  6.41368777e-02 -1.91563636e-01\n",
      "   6.26095384e-03 -1.56820834e-01 -3.95706296e-03 -2.93173850e-01\n",
      "  -6.63304329e-03 -2.56435096e-01 -1.32086277e-02  9.58865508e-02\n",
      "   1.58813983e-01 -4.45202328e-02 -1.34223133e-01  1.75430737e-02\n",
      "  -4.74234298e-02  6.36864230e-02  7.32438862e-02  1.68459862e-01\n",
      "  -1.36232495e-01  6.00983560e-01 -1.98133349e-01  1.63853019e-01\n",
      "   2.89257765e-02 -6.63201064e-02  1.48421511e-01  2.44941711e-01\n",
      "  -2.25245804e-02 -3.95278856e-02 -8.65677074e-02 -1.98439583e-01\n",
      "  -6.47930503e-01 -8.60731602e-01 -1.71302289e-01  9.45416689e-02\n",
      "   7.91726112e-02 -9.35732797e-02 -1.51149452e-01 -2.43184954e-01\n",
      "  -1.86178327e-01 -2.32039705e-01  8.29238445e-02 -2.23060250e-01\n",
      "   1.41750753e-01 -2.26801902e-01 -1.00672774e-01 -7.71469623e-02\n",
      "  -1.66009295e+00  4.85834002e-01 -1.59940124e-01  1.46345094e-01\n",
      "   2.65392452e-01  2.98487157e-01  1.31972134e-03 -9.40991417e-02\n",
      "  -1.71671689e-01 -2.03597009e-01 -8.97469670e-02 -1.26175493e-01\n",
      "   2.70366445e-02  1.39432475e-01 -4.58955765e-04  2.06063762e-01\n",
      "  -9.54270884e-02 -1.94057882e+00 -1.45004280e-02  6.12373985e-02\n",
      "   8.16804469e-02  1.45123780e-01 -3.14101756e-01  2.18153864e-01\n",
      "   1.51774585e-01  4.64314409e-02 -1.58011004e-01  3.57807934e-01\n",
      "   2.99002267e-02 -2.68355429e-01  4.01597358e-02  7.97523707e-02\n",
      "   3.57813239e-02 -1.21867925e-01  1.57566108e-02  4.48144525e-02\n",
      "   2.03480218e-02 -3.03854018e-01  2.24279568e-01 -9.59984362e-02\n",
      "   1.45617783e-01  9.88903046e-02 -7.84144253e-02 -1.47035986e-01\n",
      "   2.02782318e-01  2.14591131e-01  1.43762797e-01  5.97856790e-02\n",
      "  -6.49594188e-01 -1.03946313e-01  1.04993358e-01 -8.19939375e-02\n",
      "  -9.57718492e-03 -2.45063403e-03 -7.49977827e-02 -6.33463413e-02\n",
      "  -1.75299719e-01  2.40176797e-01  2.21118242e-01 -2.83585824e-02\n",
      "   1.33157536e-01 -6.75377250e-02 -1.64426327e-01  6.60576671e-02\n",
      "   1.24289915e-01  8.92058089e-02 -2.55946070e-02  1.30973980e-01\n",
      "  -1.19786859e-01 -5.69598824e-02  4.09070253e-02  3.57165560e-03\n",
      "   2.01246172e-01 -2.59320796e-01  9.89524126e-02 -2.17868373e-01\n",
      "   6.13703951e-02 -1.46860287e-01 -1.51228297e+00  1.40562475e-01\n",
      "   2.34294429e-01 -1.54434001e+00 -1.18903145e-01 -6.70792758e-02\n",
      "  -1.01968646e-02 -2.74547160e-01  2.94541687e-01 -2.28072956e-01\n",
      "   1.98303983e-02  1.81303039e-01 -2.75389701e-02  4.00698036e-02\n",
      "  -7.59025440e-02  7.54920542e-02  1.98327810e-01  1.73667088e-01\n",
      "  -3.61058675e-03 -3.90012302e-02 -1.03506170e-01  9.04503316e-02\n",
      "  -3.39749902e-01 -1.76028883e+00 -2.74956673e-02  2.60797739e-01\n",
      "   1.85442358e-01 -1.28761083e-01  9.99747589e-02 -2.26961374e-02\n",
      "   1.54600024e-01  3.66239548e-02  2.32587531e-02  1.65088817e-01\n",
      "  -2.14204073e-01  7.49666095e-02  3.13095488e-02 -4.55383122e-01\n",
      "   3.13443661e-01  4.24656302e-01  1.13022402e-01 -6.76014066e-01\n",
      "   9.69138220e-02  1.11491129e-01 -7.79778212e-02 -2.53119558e-01\n",
      "   2.54237443e-01  1.08091168e-01 -2.55965173e-01 -1.09468326e-01\n",
      "  -1.62347425e-02 -1.30669212e+00 -1.80960548e+00  1.15953898e+00\n",
      "  -1.20701201e-01  9.20808539e-02  1.59618407e-01  1.84874129e+00\n",
      "   1.35675639e-01 -9.90042910e-02 -6.60808086e-02 -1.95180893e-01\n",
      "   4.91854399e-02  2.79208255e+00  3.44582647e-01  6.69714808e-02\n",
      "   1.50465620e+00  3.12448919e-01  2.92345703e-01 -4.34185505e-01\n",
      "  -1.74510825e+00 -2.12621760e+00  1.35326833e-02 -4.90146577e-02\n",
      "   7.94939175e-02 -3.54534164e-02  2.16661796e-01  4.06206697e-02\n",
      "   2.55164921e-01 -1.15939505e-01  1.85907140e-01 -1.51107937e-01\n",
      "   9.25254077e-02 -4.33196276e-02 -7.71262348e-02 -2.79556289e-02\n",
      "   1.07857928e-01  1.11927792e-01  5.98367929e-01  7.22210854e-02\n",
      "   7.77598247e-02 -1.63258120e-01 -2.03957617e-01 -1.98377156e+00\n",
      "  -5.90689555e-02  2.51270682e-01  1.80625349e-01 -2.78204262e-01\n",
      "   1.53170779e-01 -3.47789451e-02 -8.85724723e-02 -3.61074477e-01\n",
      "  -4.32649702e-02 -1.33734897e-01  1.22530647e-02 -2.09482938e-01\n",
      "  -1.15795225e-01  1.31694973e-01  2.18518689e-01  2.18457375e-02\n",
      "  -5.53679504e-02  2.11962700e+00 -4.40136641e-01 -2.72552609e-01\n",
      "   1.67652398e-01  2.13073105e-01  4.00785953e-02 -8.83872136e-02\n",
      "   1.01789705e-01 -1.70693547e-01 -2.32536092e-01  1.34701639e-01\n",
      "   1.13865882e-02 -9.25652012e-02 -2.12878898e-01 -1.97766632e-01\n",
      "  -1.43249363e-01  3.62892032e-01  6.37023449e-01  5.01605213e-01\n",
      "   6.01783991e-02 -8.40301692e-01 -1.04553372e-01  1.18092939e-01\n",
      "   2.35200673e-01 -2.50466526e-01 -9.51301008e-02  1.05252221e-01\n",
      "   1.97245181e-01  1.38482004e-02 -1.95164904e-02 -3.38370383e-01\n",
      "  -3.74189079e-01  6.68944567e-02 -1.12295456e-01 -3.82150263e-02\n",
      "  -4.97693308e-02 -1.52730495e-01 -9.23826694e-02 -5.72726786e-01\n",
      "  -1.94165837e-02  1.29877937e+00  1.89391673e-02  1.24083996e-01\n",
      "   1.17118657e+00  1.13567233e-01 -1.53724313e-01  4.29681614e-02\n",
      "   1.24568053e-01 -1.02588966e-01 -9.45159420e-02 -3.11013699e-01\n",
      "  -2.43831053e-02  2.18110830e-01  1.20556414e-01 -1.96254104e-01\n",
      "  -9.29148495e-02 -2.97553658e-01  1.49424195e-01  7.47018829e-02\n",
      "   3.42636228e-01  2.55211264e-01 -2.36756392e-02 -1.27599090e-01\n",
      "  -2.24805206e-01  1.77227437e-01 -6.91715628e-02  1.92901880e-01\n",
      "   2.26855576e-01  2.93406725e-01 -7.30530359e-03 -2.19356567e-01\n",
      "   1.24623366e-02  1.69864818e-01  8.86620954e-02  7.71906525e-02\n",
      "   1.03390485e-01  7.91831911e-02 -7.16454014e-02  6.65551424e-02\n",
      "  -2.35917151e-01  1.55990034e-01 -1.20341554e-01  2.50068039e-01\n",
      "  -1.77846387e-01  4.29117113e-01  2.03353852e-01  1.22751966e-01\n",
      "   1.46434635e-01 -5.37689030e-02  6.16582073e-02 -5.43774739e-02\n",
      "  -3.19681525e-01 -5.74413985e-02  1.61301538e-01  9.43030864e-02\n",
      "  -2.88074575e-02 -3.09920818e-01  1.06637128e-01  3.97954360e-02\n",
      "   3.03801954e-01  1.26063945e-02  1.10372022e-01  3.44018906e-01\n",
      "   3.48911196e-01 -1.59245923e-01  8.00797492e-02  2.21870858e-02\n",
      "   4.16005701e-02 -1.51322186e-01  2.22256482e-01 -5.29181808e-02\n",
      "   6.90221786e-02 -1.11686192e-01  1.94612853e-02  1.96709409e-01\n",
      "  -4.53701764e-01  6.98414147e-02  1.46393478e-03  1.25053778e-01\n",
      "  -7.69058168e-02  5.28096482e-02  1.81162149e-01 -2.20253301e+00\n",
      "  -7.94996470e-02  3.41323465e-01  1.35069624e-01 -2.16064543e-01\n",
      "   1.48634315e-01  9.96351421e-01  1.33091465e-01 -1.39296323e-01\n",
      "  -2.00252354e-01 -1.62958652e-01 -1.11203738e-01 -1.12118974e-01\n",
      "   9.29551423e-02 -4.81711119e-01  1.19112685e-01  1.88288596e-02\n",
      "   1.11572996e-01 -2.69671321e-01  5.91433644e-02 -1.76179278e+00\n",
      "  -7.36045241e-02 -2.91571975e-01  2.13767201e-01  7.46040046e-02\n",
      "   6.30418211e-02 -8.53839293e-02 -2.36913860e-02 -2.92641521e-01\n",
      "   3.56541388e-02 -2.41623074e-02 -1.35179177e-01  9.00567994e-02\n",
      "  -1.86554819e-01  6.68610334e-02  1.22662328e-01 -2.13577449e-01\n",
      "   9.44270194e-03 -2.32409567e-01  1.21480390e-01  8.90645012e-03\n",
      "  -6.42759427e-02 -5.55913039e-02  2.89756149e-01  1.10471472e-01\n",
      "   1.53592899e-01  7.83555955e-02  1.88155413e-01  8.21924508e-02\n",
      "   7.75516480e-02 -1.62184489e+00 -7.48100281e-02 -8.66631716e-02\n",
      "   1.65580586e-01 -1.73584446e-02  1.88242793e-01  2.57554531e-01\n",
      "  -5.03466874e-02 -8.95108730e-02  2.96100765e-01 -1.15681976e-01\n",
      "   2.19742954e-03  1.32125676e-01  1.29548475e-01 -9.79013368e-03\n",
      "   1.42339498e-01  2.07535475e-01  1.13948174e-01 -2.23725736e-01\n",
      "   4.01586294e-04 -4.71278764e-02 -1.28297657e-01  4.24731433e-01\n",
      "   3.36604863e-02  1.67736724e-01  2.48080298e-01  1.16427690e-01\n",
      "  -1.37094006e-01 -1.91665292e-01  1.52443811e-01 -9.21018720e-02\n",
      "  -1.05151892e+00 -1.78325213e-02 -3.25944498e-02  6.19669445e-02\n",
      "  -8.61615986e-02  2.23364502e-01  1.56666040e-01  3.73298049e-01\n",
      "   1.16643764e-01  1.90818593e-01  5.42391658e-01  1.89603448e+00\n",
      "   1.51785523e-01 -1.03724450e-02  7.90784359e-02  1.27136230e-01\n",
      "  -2.92520165e-01 -5.34018166e-02 -2.59207428e-01  1.94355130e+00\n",
      "  -4.94197756e-02 -1.51114181e-01 -2.21273199e-01  3.60970676e-01\n",
      "   2.14226365e-01  1.63846207e+00  1.05749831e-01  1.35662973e-01\n",
      "   5.97658306e-02  1.39025718e-01  1.38036599e-02  8.28213915e-02\n",
      "  -1.53106287e-01 -2.27932930e-02 -8.67881551e-02 -9.97075379e-01\n",
      "   1.36240963e-02  2.52920747e-01  2.92624891e-01  9.50247198e-02\n",
      "  -5.23957372e-01  1.03597045e-01  1.47671044e-01 -2.44947284e-01\n",
      "  -4.88013029e-03  9.23528671e-02 -1.80851653e-01 -1.06645748e-02\n",
      "  -1.71591938e-01  1.30946040e-01 -2.23651439e-01 -6.81804195e-02\n",
      "  -2.27517575e-01  1.79433241e-01  6.32384494e-02 -2.29472630e-02\n",
      "   2.93859392e-01 -4.82532568e-02  1.16079330e-01  4.37866569e-01\n",
      "   8.74103531e-02  2.06886813e-01  7.91016370e-02 -1.35869399e-01\n",
      "  -1.38844162e-01 -2.93785155e-01  3.09313476e-01  2.34294787e-01\n",
      "   2.32448205e-02  2.29356334e-01  5.67872971e-02  7.36779943e-02]]\n",
      "(1, 768)\n"
     ]
    }
   ],
   "source": [
    "query = 'PPL너무 심해'\n",
    "query_cls_hidden = get_cls_token(query)\n",
    "print(query_cls_hidden)\n",
    "print(query_cls_hidden.shape)"
   ]
  },
  {
   "cell_type": "code",
   "execution_count": 20,
   "id": "967ed737",
   "metadata": {
    "scrolled": true
   },
   "outputs": [
    {
     "data": {
      "text/html": [
       "<div>\n",
       "<style scoped>\n",
       "    .dataframe tbody tr th:only-of-type {\n",
       "        vertical-align: middle;\n",
       "    }\n",
       "\n",
       "    .dataframe tbody tr th {\n",
       "        vertical-align: top;\n",
       "    }\n",
       "\n",
       "    .dataframe thead th {\n",
       "        text-align: right;\n",
       "    }\n",
       "</style>\n",
       "<table border=\"1\" class=\"dataframe\">\n",
       "  <thead>\n",
       "    <tr style=\"text-align: right;\">\n",
       "      <th></th>\n",
       "      <th>Q</th>\n",
       "      <th>A</th>\n",
       "      <th>label</th>\n",
       "    </tr>\n",
       "  </thead>\n",
       "  <tbody>\n",
       "    <tr>\n",
       "      <th>0</th>\n",
       "      <td>12시 땡!</td>\n",
       "      <td>하루가 또 가네요.</td>\n",
       "      <td>0</td>\n",
       "    </tr>\n",
       "    <tr>\n",
       "      <th>1</th>\n",
       "      <td>1지망 학교 떨어졌어</td>\n",
       "      <td>위로해 드립니다.</td>\n",
       "      <td>0</td>\n",
       "    </tr>\n",
       "    <tr>\n",
       "      <th>2</th>\n",
       "      <td>3박4일 놀러가고 싶다</td>\n",
       "      <td>여행은 언제나 좋죠.</td>\n",
       "      <td>0</td>\n",
       "    </tr>\n",
       "    <tr>\n",
       "      <th>3</th>\n",
       "      <td>3박4일 정도 놀러가고 싶다</td>\n",
       "      <td>여행은 언제나 좋죠.</td>\n",
       "      <td>0</td>\n",
       "    </tr>\n",
       "    <tr>\n",
       "      <th>4</th>\n",
       "      <td>PPL 심하네</td>\n",
       "      <td>눈살이 찌푸려지죠.</td>\n",
       "      <td>0</td>\n",
       "    </tr>\n",
       "    <tr>\n",
       "      <th>...</th>\n",
       "      <td>...</td>\n",
       "      <td>...</td>\n",
       "      <td>...</td>\n",
       "    </tr>\n",
       "    <tr>\n",
       "      <th>11818</th>\n",
       "      <td>훔쳐보는 것도 눈치 보임.</td>\n",
       "      <td>티가 나니까 눈치가 보이는 거죠!</td>\n",
       "      <td>2</td>\n",
       "    </tr>\n",
       "    <tr>\n",
       "      <th>11819</th>\n",
       "      <td>훔쳐보는 것도 눈치 보임.</td>\n",
       "      <td>훔쳐보는 거 티나나봐요.</td>\n",
       "      <td>2</td>\n",
       "    </tr>\n",
       "    <tr>\n",
       "      <th>11820</th>\n",
       "      <td>흑기사 해주는 짝남.</td>\n",
       "      <td>설렜겠어요.</td>\n",
       "      <td>2</td>\n",
       "    </tr>\n",
       "    <tr>\n",
       "      <th>11821</th>\n",
       "      <td>힘든 연애 좋은 연애라는게 무슨 차이일까?</td>\n",
       "      <td>잘 헤어질 수 있는 사이 여부인 거 같아요.</td>\n",
       "      <td>2</td>\n",
       "    </tr>\n",
       "    <tr>\n",
       "      <th>11822</th>\n",
       "      <td>힘들어서 결혼할까봐</td>\n",
       "      <td>도피성 결혼은 하지 않길 바라요.</td>\n",
       "      <td>2</td>\n",
       "    </tr>\n",
       "  </tbody>\n",
       "</table>\n",
       "<p>11823 rows × 3 columns</p>\n",
       "</div>"
      ],
      "text/plain": [
       "                             Q                         A  label\n",
       "0                       12시 땡!                하루가 또 가네요.      0\n",
       "1                  1지망 학교 떨어졌어                 위로해 드립니다.      0\n",
       "2                 3박4일 놀러가고 싶다               여행은 언제나 좋죠.      0\n",
       "3              3박4일 정도 놀러가고 싶다               여행은 언제나 좋죠.      0\n",
       "4                      PPL 심하네                눈살이 찌푸려지죠.      0\n",
       "...                        ...                       ...    ...\n",
       "11818           훔쳐보는 것도 눈치 보임.        티가 나니까 눈치가 보이는 거죠!      2\n",
       "11819           훔쳐보는 것도 눈치 보임.             훔쳐보는 거 티나나봐요.      2\n",
       "11820              흑기사 해주는 짝남.                    설렜겠어요.      2\n",
       "11821  힘든 연애 좋은 연애라는게 무슨 차이일까?  잘 헤어질 수 있는 사이 여부인 거 같아요.      2\n",
       "11822               힘들어서 결혼할까봐        도피성 결혼은 하지 않길 바라요.      2\n",
       "\n",
       "[11823 rows x 3 columns]"
      ]
     },
     "execution_count": 20,
     "metadata": {},
     "output_type": "execute_result"
    }
   ],
   "source": [
    "data_df = pd.read_csv('../Documents/git/Chatbot_data/ChatbotData.csv')\n",
    "data_df"
   ]
  },
  {
   "cell_type": "code",
   "execution_count": 33,
   "id": "1a942d9a",
   "metadata": {},
   "outputs": [],
   "source": []
  },
  {
   "cell_type": "code",
   "execution_count": 32,
   "id": "a3939731",
   "metadata": {},
   "outputs": [
    {
     "data": {
      "text/plain": [
       "numpy.ndarray"
      ]
     },
     "execution_count": 32,
     "metadata": {},
     "output_type": "execute_result"
    }
   ],
   "source": [
    "type(data_cls_hidden)"
   ]
  },
  {
   "cell_type": "code",
   "execution_count": 21,
   "id": "20a3b0aa",
   "metadata": {
    "scrolled": true
   },
   "outputs": [
    {
     "name": "stdout",
     "output_type": "stream",
     "text": [
      "[[-9.83642936e-02 -2.87346616e-02 -6.73831880e-01 ...  7.08659530e-01\n",
      "   6.99952990e-02  3.66942137e-01]\n",
      " [ 6.49078786e-02  7.18162060e-02 -1.40972048e-01 ...  1.38333037e-01\n",
      "   1.65952072e-01  1.12921156e-01]\n",
      " [ 4.07803804e-04  2.28369981e-02  2.58352309e-01 ...  1.35420680e-01\n",
      "   2.67340362e-01  9.57452580e-02]\n",
      " ...\n",
      " [ 1.53779164e-01 -2.82409340e-02 -8.10719132e-02 ...  2.28785023e-01\n",
      "   1.65324360e-02  1.29616022e-01]\n",
      " [-4.51041684e-02  1.04225785e-01 -1.89268559e-01 ...  5.91341257e-01\n",
      "   2.69855976e-01 -2.99957246e-02]\n",
      " [ 3.52815874e-02  3.98814678e-03  1.61026150e-01 ...  6.02967858e-01\n",
      "   4.56987321e-03  4.15168941e-01]]\n",
      "(11823, 768)\n"
     ]
    }
   ],
   "source": [
    "from sklearn.metrics.pairwise import cosine_similarity\n",
    "import numpy as np\n",
    "\n",
    "dataset_cls_hidden = []\n",
    "chatbot_Question = data_df['Q']\n",
    "for q in chatbot_Question:\n",
    "    q_cls = get_cls_token(q)\n",
    "    dataset_cls_hidden.append(q_cls)\n",
    "data_cls_hidden = np.array(dataset_cls_hidden).squeeze(axis=1)\n",
    "print(data_cls_hidden) # 데이터 셋의 질문에 대한 [CLS] 토큰 벡터\n",
    "print(data_cls_hidden.shape)"
   ]
  },
  {
   "cell_type": "code",
   "execution_count": 37,
   "id": "50632572",
   "metadata": {},
   "outputs": [
    {
     "name": "stdout",
     "output_type": "stream",
     "text": [
      "[[0.4756525  0.9124478  0.9389174  ... 0.93778825 0.91623616 0.87848544]]\n"
     ]
    }
   ],
   "source": [
    "cos_sim = cosine_similarity(query_cls_hidden, data_cls_hidden)\n",
    "print(cos_sim)"
   ]
  },
  {
   "cell_type": "code",
   "execution_count": null,
   "id": "19fa5d92",
   "metadata": {},
   "outputs": [],
   "source": [
    "np.save('data_cls_hidden_save', data_cls_hidden)"
   ]
  },
  {
   "cell_type": "code",
   "execution_count": 38,
   "id": "7aa8ee46",
   "metadata": {},
   "outputs": [
    {
     "name": "stdout",
     "output_type": "stream",
     "text": [
      "나의 질문: PPL너무 심해\n",
      "저장된 답변: 저도 해보고 싶네요.\n"
     ]
    }
   ],
   "source": [
    "top_question = np.argmax(cos_sim)\n",
    "\n",
    "print('나의 질문:',  query)\n",
    "print('저장된 답변:', data_df['A'][top_question])"
   ]
  },
  {
   "cell_type": "code",
   "execution_count": null,
   "id": "27e87b8d",
   "metadata": {},
   "outputs": [],
   "source": []
  },
  {
   "cell_type": "code",
   "execution_count": null,
   "id": "6d8915cc",
   "metadata": {},
   "outputs": [],
   "source": []
  },
  {
   "cell_type": "code",
   "execution_count": 39,
   "id": "77afc527",
   "metadata": {},
   "outputs": [
    {
     "name": "stdout",
     "output_type": "stream",
     "text": [
      "Collecting fastapi"
     ]
    },
    {
     "name": "stderr",
     "output_type": "stream",
     "text": [
      "\n",
      "[notice] A new release of pip is available: 23.1.1 -> 23.1.2\n",
      "[notice] To update, run: python.exe -m pip install --upgrade pip\n"
     ]
    },
    {
     "name": "stdout",
     "output_type": "stream",
     "text": [
      "\n",
      "  Downloading fastapi-0.95.2-py3-none-any.whl (56 kB)\n",
      "                                              0.0/57.0 kB ? eta -:--:--\n",
      "     ---------------------------------------- 57.0/57.0 kB 3.1 MB/s eta 0:00:00\n",
      "Requirement already satisfied: pydantic!=1.7,!=1.7.1,!=1.7.2,!=1.7.3,!=1.8,!=1.8.1,<2.0.0,>=1.6.2 in c:\\users\\mdr\\anaconda3\\lib\\site-packages (from fastapi) (1.9.1)\n",
      "Collecting starlette<0.28.0,>=0.27.0 (from fastapi)\n",
      "  Downloading starlette-0.27.0-py3-none-any.whl (66 kB)\n",
      "                                              0.0/67.0 kB ? eta -:--:--\n",
      "     ---------------------------------------- 67.0/67.0 kB 3.8 MB/s eta 0:00:00\n",
      "Requirement already satisfied: typing-extensions>=3.7.4.3 in c:\\users\\mdr\\anaconda3\\lib\\site-packages (from pydantic!=1.7,!=1.7.1,!=1.7.2,!=1.7.3,!=1.8,!=1.8.1,<2.0.0,>=1.6.2->fastapi) (4.1.1)\n",
      "Requirement already satisfied: anyio<5,>=3.4.0 in c:\\users\\mdr\\anaconda3\\lib\\site-packages (from starlette<0.28.0,>=0.27.0->fastapi) (3.5.0)\n",
      "Requirement already satisfied: idna>=2.8 in c:\\users\\mdr\\anaconda3\\lib\\site-packages (from anyio<5,>=3.4.0->starlette<0.28.0,>=0.27.0->fastapi) (3.3)\n",
      "Requirement already satisfied: sniffio>=1.1 in c:\\users\\mdr\\anaconda3\\lib\\site-packages (from anyio<5,>=3.4.0->starlette<0.28.0,>=0.27.0->fastapi) (1.2.0)\n",
      "Installing collected packages: starlette, fastapi\n",
      "Successfully installed fastapi-0.95.2 starlette-0.27.0\n"
     ]
    }
   ],
   "source": [
    "!pip install fastapi"
   ]
  },
  {
   "cell_type": "code",
   "execution_count": 41,
   "id": "bf003b93",
   "metadata": {},
   "outputs": [
    {
     "name": "stderr",
     "output_type": "stream",
     "text": [
      "\n",
      "[notice] A new release of pip is available: 23.1.1 -> 23.1.2\n",
      "[notice] To update, run: python.exe -m pip install --upgrade pip\n"
     ]
    },
    {
     "name": "stdout",
     "output_type": "stream",
     "text": [
      "Collecting uvicorn[standard]\n",
      "  Downloading uvicorn-0.22.0-py3-none-any.whl (58 kB)\n",
      "                                              0.0/58.3 kB ? eta -:--:--\n",
      "     ---------------------------------------- 58.3/58.3 kB ? eta 0:00:00\n",
      "Requirement already satisfied: click>=7.0 in c:\\users\\mdr\\anaconda3\\lib\\site-packages (from uvicorn[standard]) (8.0.4)\n",
      "Requirement already satisfied: h11>=0.8 in c:\\users\\mdr\\anaconda3\\lib\\site-packages (from uvicorn[standard]) (0.13.0)\n",
      "Requirement already satisfied: colorama>=0.4 in c:\\users\\mdr\\anaconda3\\lib\\site-packages (from uvicorn[standard]) (0.4.4)\n",
      "Collecting httptools>=0.5.0 (from uvicorn[standard])\n",
      "  Downloading httptools-0.5.0-cp39-cp39-win_amd64.whl (145 kB)\n",
      "                                              0.0/145.1 kB ? eta -:--:--\n",
      "     ---------------------------------------- 145.1/145.1 kB ? eta 0:00:00\n",
      "Requirement already satisfied: python-dotenv>=0.13 in c:\\users\\mdr\\anaconda3\\lib\\site-packages (from uvicorn[standard]) (0.20.0)\n",
      "Requirement already satisfied: pyyaml>=5.1 in c:\\users\\mdr\\anaconda3\\lib\\site-packages (from uvicorn[standard]) (6.0)\n",
      "Collecting watchfiles>=0.13 (from uvicorn[standard])\n",
      "  Downloading watchfiles-0.19.0-cp37-abi3-win_amd64.whl (270 kB)\n",
      "                                              0.0/270.9 kB ? eta -:--:--\n",
      "     ------------------------------------- 270.9/270.9 kB 16.3 MB/s eta 0:00:00\n",
      "Collecting websockets>=10.4 (from uvicorn[standard])\n",
      "  Downloading websockets-11.0.3-cp39-cp39-win_amd64.whl (124 kB)\n",
      "                                              0.0/124.7 kB ? eta -:--:--\n",
      "     -------------------------------------- 124.7/124.7 kB 7.2 MB/s eta 0:00:00\n",
      "Requirement already satisfied: anyio>=3.0.0 in c:\\users\\mdr\\anaconda3\\lib\\site-packages (from watchfiles>=0.13->uvicorn[standard]) (3.5.0)\n",
      "Requirement already satisfied: idna>=2.8 in c:\\users\\mdr\\anaconda3\\lib\\site-packages (from anyio>=3.0.0->watchfiles>=0.13->uvicorn[standard]) (3.3)\n",
      "Requirement already satisfied: sniffio>=1.1 in c:\\users\\mdr\\anaconda3\\lib\\site-packages (from anyio>=3.0.0->watchfiles>=0.13->uvicorn[standard]) (1.2.0)\n",
      "Installing collected packages: websockets, httptools, watchfiles, uvicorn\n",
      "Successfully installed httptools-0.5.0 uvicorn-0.22.0 watchfiles-0.19.0 websockets-11.0.3\n",
      "Collecting uvicorn[standard]\n",
      "  Using cached uvicorn-0.22.0-py3-none-any.whl (58 kB)\n",
      "Requirement already satisfied: click>=7.0 in c:\\users\\mdr\\anaconda3\\lib\\site-packages (from uvicorn[standard]) (8.0.4)\n",
      "Requirement already satisfied: h11>=0.8 in c:\\users\\mdr\\anaconda3\\lib\\site-packages (from uvicorn[standard]) (0.13.0)\n",
      "Requirement already satisfied: colorama>=0.4 in c:\\users\\mdr\\anaconda3\\lib\\site-packages (from uvicorn[standard]) (0.4.4)\n",
      "Collecting httptools>=0.5.0 (from uvicorn[standard])\n",
      "  Using cached httptools-0.5.0-cp39-cp39-win_amd64.whl (145 kB)\n",
      "Requirement already satisfied: python-dotenv>=0.13 in c:\\users\\mdr\\anaconda3\\lib\\site-packages (from uvicorn[standard]) (0.20.0)\n",
      "Requirement already satisfied: pyyaml>=5.1 in c:\\users\\mdr\\anaconda3\\lib\\site-packages (from uvicorn[standard]) (6.0)\n",
      "Collecting watchfiles>=0.13 (from uvicorn[standard])\n",
      "  Using cached watchfiles-0.19.0-cp37-abi3-win_amd64.whl (270 kB)\n",
      "Collecting websockets>=10.4 (from uvicorn[standard])\n",
      "  Using cached websockets-11.0.3-cp39-cp39-win_amd64.whl (124 kB)\n",
      "Requirement already satisfied: anyio>=3.0.0 in c:\\users\\mdr\\anaconda3\\lib\\site-packages (from watchfiles>=0.13->uvicorn[standard]) (3.5.0)\n",
      "Requirement already satisfied: idna>=2.8 in c:\\users\\mdr\\anaconda3\\lib\\site-packages (from anyio>=3.0.0->watchfiles>=0.13->uvicorn[standard]) (3.3)\n",
      "Requirement already satisfied: sniffio>=1.1 in c:\\users\\mdr\\anaconda3\\lib\\site-packages (from anyio>=3.0.0->watchfiles>=0.13->uvicorn[standard]) (1.2.0)\n",
      "Installing collected packages: websockets, httptools, watchfiles, uvicorn\n",
      "Successfully installed httptools-0.5.0 uvicorn-0.22.0 watchfiles-0.19.0 websockets-11.0.3\n"
     ]
    },
    {
     "name": "stderr",
     "output_type": "stream",
     "text": [
      "\n",
      "[notice] A new release of pip is available: 23.1.1 -> 23.1.2\n",
      "[notice] To update, run: python.exe -m pip install --upgrade pip\n"
     ]
    }
   ],
   "source": [
    "!pip install \"uvicorn[standard]\""
   ]
  },
  {
   "cell_type": "code",
   "execution_count": 43,
   "id": "5a3a2413",
   "metadata": {},
   "outputs": [
    {
     "name": "stderr",
     "output_type": "stream",
     "text": [
      "ERROR: Could not find a version that satisfies the requirement request (from versions: none)\n",
      "ERROR: No matching distribution found for request\n",
      "\n",
      "[notice] A new release of pip is available: 23.1.1 -> 23.1.2\n",
      "[notice] To update, run: python.exe -m pip install --upgrade pip\n"
     ]
    }
   ],
   "source": []
  }
 ],
 "metadata": {
  "kernelspec": {
   "display_name": "Python 3 (ipykernel)",
   "language": "python",
   "name": "python3"
  },
  "language_info": {
   "codemirror_mode": {
    "name": "ipython",
    "version": 3
   },
   "file_extension": ".py",
   "mimetype": "text/x-python",
   "name": "python",
   "nbconvert_exporter": "python",
   "pygments_lexer": "ipython3",
   "version": "3.9.12"
  }
 },
 "nbformat": 4,
 "nbformat_minor": 5
}
